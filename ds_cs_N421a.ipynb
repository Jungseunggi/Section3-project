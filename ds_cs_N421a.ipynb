{
  "cells": [
    {
      "cell_type": "markdown",
      "metadata": {
        "id": "view-in-github",
        "colab_type": "text"
      },
      "source": [
        "<a href=\"https://colab.research.google.com/github/Jungseunggi/Section3-project/blob/main/ds_cs_N421a.ipynb\" target=\"_parent\"><img src=\"https://colab.research.google.com/assets/colab-badge.svg\" alt=\"Open In Colab\"/></a>"
      ]
    },
    {
      "cell_type": "markdown",
      "metadata": {
        "id": "CzIdLqSrQNwo"
      },
      "source": [
        "<img src='https://user-images.githubusercontent.com/6457691/90080969-0f758d00-dd47-11ea-8191-fa12fd2054a7.png' width = '200' align = 'right'>\n",
        "\n",
        "## *DATA SCIENCE / SECTION 4 / SPRINT 1 / NOTE 1 - assignmnet*\n",
        "\n",
        "---\n",
        "\n",
        "\n",
        "\n",
        "\n",
        "\n",
        "# N411. 퍼셉트론(Perceptron)과 인공신경망(Artificial Neural Networks) 과제"
      ]
    },
    {
      "cell_type": "markdown",
      "metadata": {
        "id": "690eteXL3fNm"
      },
      "source": [
        "## 단층 퍼셉트론"
      ]
    },
    {
      "cell_type": "markdown",
      "metadata": {
        "id": "7gohYwPl3fNn"
      },
      "source": [
        "이진분류 태스크를 위한 예시 데이터를 생성해보겠습니다. X 데이터는 (x좌표, y좌표)로 이루어져 있으며, 타겟 데이터는 0과 1로 이루어져 있습니다.\n",
        "\n",
        "아래의 예시 생성 부분이 당장 이해 안가도 괜찮습니다. 넘파이를 활용해, 이런 다양한 일들을 할 수 있다는 점을 알아두시고, 궁금하신 분은 나중에 더 찾아보세요.\n",
        "\n",
        "- np.append, np.vstack, np.hstack의 각각의 차이점에 대해 더 찾아보세요!"
      ]
    },
    {
      "cell_type": "code",
      "source": [
        "!pip install --upgrade pandas\n",
        "!pip install --upgrade xlrd"
      ],
      "metadata": {
        "colab": {
          "base_uri": "https://localhost:8080/"
        },
        "id": "XCpv-iMEH9hZ",
        "outputId": "726c55c1-e47c-4c3a-ece0-4636ef0fb565"
      },
      "execution_count": 1,
      "outputs": [
        {
          "output_type": "stream",
          "name": "stdout",
          "text": [
            "Looking in indexes: https://pypi.org/simple, https://us-python.pkg.dev/colab-wheels/public/simple/\n",
            "Requirement already satisfied: pandas in /usr/local/lib/python3.7/dist-packages (1.3.5)\n",
            "Requirement already satisfied: numpy>=1.17.3 in /usr/local/lib/python3.7/dist-packages (from pandas) (1.21.6)\n",
            "Requirement already satisfied: pytz>=2017.3 in /usr/local/lib/python3.7/dist-packages (from pandas) (2022.1)\n",
            "Requirement already satisfied: python-dateutil>=2.7.3 in /usr/local/lib/python3.7/dist-packages (from pandas) (2.8.2)\n",
            "Requirement already satisfied: six>=1.5 in /usr/local/lib/python3.7/dist-packages (from python-dateutil>=2.7.3->pandas) (1.15.0)\n",
            "Looking in indexes: https://pypi.org/simple, https://us-python.pkg.dev/colab-wheels/public/simple/\n",
            "Requirement already satisfied: xlrd in /usr/local/lib/python3.7/dist-packages (2.0.1)\n"
          ]
        }
      ]
    },
    {
      "cell_type": "code",
      "execution_count": 2,
      "metadata": {
        "id": "GYannz6G3fNn",
        "outputId": "85ebc357-e570-49e4-83a9-fa9e9c8beb75",
        "colab": {
          "base_uri": "https://localhost:8080/",
          "height": 320
        }
      },
      "outputs": [
        {
          "output_type": "display_data",
          "data": {
            "text/plain": [
              "<Figure size 864x360 with 1 Axes>"
            ],
            "image/png": "[encoded data removed]"
          },
          "metadata": {
            "needs_background": "light"
          }
        }
      ],
      "source": [
        "import numpy as np\n",
        "import matplotlib.pyplot as plt\n",
        "np.random.seed(0)\n",
        "\n",
        "x11 = np.random.uniform(low=0, high=5, size=(50,))\n",
        "x12 = np.random.uniform(low=10, high=15, size=(50,))\n",
        "x21 = np.random.uniform(low=0, high=5, size=(50,))\n",
        "x22 = np.random.uniform(low=10, high=15, size=(50,))\n",
        "# 균등분포로 부터 무작위 표본 추출\n",
        "\n",
        "x1 = np.append(x11, x12)\n",
        "x2 = np.append(x21, x22)\n",
        "# x11뒤에 x12추가\n",
        "\n",
        "y11 = np.random.uniform(low=10, high=15, size=(50,))\n",
        "y12 = np.random.uniform(low=0, high=5, size=(50,))\n",
        "y21 = np.random.uniform(low=0, high=5, size=(50,))\n",
        "y22 = np.random.uniform(low=10, high=15, size=(50,))\n",
        "\n",
        "y1 = np.append(y11, y12)\n",
        "y2 = np.append(y21, y22)\n",
        "\n",
        "x_1 = np.vstack([x1, y1]).T\n",
        "x_2 = np.vstack([x2, y2]).T\n",
        "y_1 = np.ones_like(x_1[:, 0])\n",
        "y_2 = np.zeros_like(x_2[:, 0])\n",
        "x = np.vstack([x_1, x_2])\n",
        "y = np.hstack([y_1, y_2])\n",
        "# vstack 배열을 세로로 결합할 때 사용\n",
        "\n",
        "fig, ax = plt.subplots(figsize = (12,5))\n",
        "ax.plot(x_1[:, 0], x_1[:,1], 'bo')\n",
        "ax.plot(x_2[:,0], x_2[:,1], 'ro')\n",
        "ax.grid()"
      ]
    },
    {
      "cell_type": "markdown",
      "metadata": {
        "id": "AytuQywA3fNp"
      },
      "source": [
        "### 문제 1-1"
      ]
    },
    {
      "cell_type": "markdown",
      "metadata": {
        "id": "abzurMUK3fNp"
      },
      "source": [
        "단층 퍼셉트론으로 위의 문제를 해결할 수 없음을 확인해보겠습니다. 이진 분류를 위한 단층 퍼셉트론을 구현하기 위해 다음 빈칸에 들어갈 내용으로 알맞은 것은?"
      ]
    },
    {
      "cell_type": "code",
      "execution_count": 3,
      "metadata": {
        "id": "bhl96KVM3fNq",
        "colab": {
          "base_uri": "https://localhost:8080/",
          "height": 687
        },
        "outputId": "7c0e1868-46b7-49e1-8fd3-a296540f346f"
      },
      "outputs": [
        {
          "output_type": "stream",
          "name": "stdout",
          "text": [
            "Epoch 1/10\n",
            "7/7 [==============================] - 1s 2ms/step - loss: 4.2161 - accuracy: 0.7100\n",
            "Epoch 2/10\n",
            "7/7 [==============================] - 0s 3ms/step - loss: 4.1794 - accuracy: 0.7200\n",
            "Epoch 3/10\n",
            "7/7 [==============================] - 0s 4ms/step - loss: 4.1762 - accuracy: 0.7200\n",
            "Epoch 4/10\n",
            "7/7 [==============================] - 0s 2ms/step - loss: 4.1741 - accuracy: 0.7200\n",
            "Epoch 5/10\n",
            "7/7 [==============================] - 0s 2ms/step - loss: 4.1723 - accuracy: 0.7200\n",
            "Epoch 6/10\n",
            "7/7 [==============================] - 0s 3ms/step - loss: 4.1712 - accuracy: 0.7200\n",
            "Epoch 7/10\n",
            "7/7 [==============================] - 0s 2ms/step - loss: 4.1703 - accuracy: 0.7200\n",
            "Epoch 8/10\n",
            "7/7 [==============================] - 0s 3ms/step - loss: 4.1695 - accuracy: 0.7200\n",
            "Epoch 9/10\n",
            "7/7 [==============================] - 0s 2ms/step - loss: 5.9212 - accuracy: 0.5900\n",
            "Epoch 10/10\n",
            "7/7 [==============================] - 0s 2ms/step - loss: 5.4314 - accuracy: 0.6400\n"
          ]
        },
        {
          "output_type": "display_data",
          "data": {
            "text/plain": [
              "<Figure size 864x360 with 1 Axes>"
            ],
            "image/png": "[encoded data removed]"
          },
          "metadata": {
            "needs_background": "light"
          }
        }
      ],
      "source": [
        "import tensorflow as tf\n",
        "\n",
        "model = tf.keras.models.Sequential([\n",
        "    tf.keras.layers.Dense(1, activation='linear') # 문제1-1\n",
        "])\n",
        "\n",
        "model.compile(optimizer='sgd',\n",
        "              loss='binary_crossentropy',\n",
        "              metrics=['accuracy'])\n",
        "\n",
        "model.fit(x, y, epochs=10)\n",
        "\n",
        "# 각각의 변수 명을 모두 다르게 설정했습니다.\n",
        "# model.predict의 결과값 / preds_1d / pred_class 의 형태(shape)와 값들을 한번 직접 확인해보세요\n",
        "\n",
        "preds = model.predict(x)\n",
        "preds_1d = preds.flatten()\n",
        "pred_class = np.where(preds_1d > 0.5, 1 , 0)\n",
        "\n",
        "y_true = x[pred_class==1]\n",
        "y_false = x[pred_class==0]\n",
        "\n",
        "fig, ax = plt.subplots(figsize = (12,5))\n",
        "ax.plot(y_true[:, 0], y_true[:,1], 'bo')\n",
        "ax.plot(y_false[:,0], y_false[:,1], 'ro')\n",
        "ax.grid()"
      ]
    },
    {
      "cell_type": "markdown",
      "metadata": {
        "id": "iOVOPQBn3fNq"
      },
      "source": [
        "### 문제 1-2\n",
        "비선형성이 추가되지 않은 단층 퍼셉트론이 어떠한 결정 경계를 만드나요?"
      ]
    },
    {
      "cell_type": "markdown",
      "source": [
        "* 초평면으로 n차원 공간을 두 개의 결정 영역으로 나눔 \n",
        "* 초평면이란  p차원 공간에서, 초평면은 p-1 차원인 평평한 affine 부분 공간\n",
        "* 아직 무엇인지는 정확히 모르겠지만 초평면을 선형 분리 함수로 정의하며 식은 아래와 같다."
      ],
      "metadata": {
        "id": "H4XUsCh9Fks0"
      }
    },
    {
      "cell_type": "markdown",
      "source": [
        "![image.png](data:image/png;base64,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)"
      ],
      "metadata": {
        "id": "aiCIZgXhGDrO"
      }
    },
    {
      "cell_type": "markdown",
      "source": [
        "* 따라서 임계값 세타는 결정 경계를 옮기는 데 사용"
      ],
      "metadata": {
        "id": "G1kglyqoGG-T"
      }
    },
    {
      "cell_type": "markdown",
      "metadata": {
        "id": "SvNvoQJk-xb-"
      },
      "source": [
        "## 문제2. 실제 데이터 과제\n",
        " - 아래 주어진 데이터를 신경망을 이용하여 Classification 문제를 풀어보세요.\n",
        " - 또한 머신러닝에서 배운 방법(배우지 않은 머신러닝 방법론(SVM 등)도 가능)을 이용하여 비교해보세요."
      ]
    },
    {
      "cell_type": "markdown",
      "metadata": {
        "id": "pqOkgM9wnmNu"
      },
      "source": [
        "입력 데이터 샘플과 Features : 1077 샘플 x 69 Features (변수)\n",
        "\n",
        "데이터 label: 다운증후군 (1), 정상군 (2)\n",
        "\n",
        "데이터는 다운증후군과 정상군 마우스 피질의 핵 분획에서 검출 가능한 신호를 생성하는 69 개 단백질의 발현 수준으로 구성되어 있습니다.\n",
        "라벨로는 다운증후군 1, 정상군 2로 할당되어 있습니다.\n"
      ]
    },
    {
      "cell_type": "code",
      "execution_count": 4,
      "metadata": {
        "id": "gULuO1ETO-6G"
      },
      "outputs": [],
      "source": [
        "import pandas as pd\n",
        "df = pd.read_excel(\"https://ds-lecture-data.s3.ap-northeast-2.amazonaws.com/MouseProtein/mouse_protein_X.xls\", header=None)\n",
        "df_label = pd.read_excel(\"https://ds-lecture-data.s3.ap-northeast-2.amazonaws.com/MouseProtein/mouse_protein_label.xls\", header=None)"
      ]
    },
    {
      "cell_type": "code",
      "execution_count": 7,
      "metadata": {
        "colab": {
          "base_uri": "https://localhost:8080/",
          "height": 236
        },
        "id": "6I-8OQ_APLtG",
        "outputId": "5cab94e7-d27d-4f65-c330-59ad210b08a1"
      },
      "outputs": [
        {
          "output_type": "execute_result",
          "data": {
            "text/plain": [
              "        0        1        2       3       4        5        6       7   \\\n",
              "0  0.50364  0.74719  0.43018  2.8163  5.9902  0.21883  0.17757  2.3737   \n",
              "1  0.51462  0.68906  0.41177  2.7895  5.6850  0.21164  0.17282  2.2921   \n",
              "2  0.50918  0.73025  0.41831  2.6872  5.6221  0.20901  0.17572  2.2833   \n",
              "3  0.44211  0.61708  0.35863  2.4669  4.9795  0.22289  0.17646  2.1523   \n",
              "4  0.43494  0.61743  0.35880  2.3658  4.7187  0.21311  0.17363  2.1340   \n",
              "\n",
              "        8       9   ...       59       60       61      62      63       64  \\\n",
              "0  0.23222  1.7509  ...  0.14276  0.43096  0.24754  1.6033  2.0149  0.10823   \n",
              "1  0.22697  1.5964  ...  0.14204  0.45716  0.25763  1.6717  2.0046  0.10975   \n",
              "2  0.23025  1.5613  ...  0.14244  0.51047  0.25534  1.6635  2.0168  0.10820   \n",
              "3  0.20700  1.5951  ...  0.14507  0.43100  0.25110  1.4846  1.9572  0.11988   \n",
              "4  0.19216  1.5042  ...  0.14087  0.48123  0.25177  1.5348  2.0091  0.11952   \n",
              "\n",
              "        65       66       67      68  \n",
              "0  1.04500  0.83156  0.18885  1.6757  \n",
              "1  1.00990  0.84927  0.20040  1.7436  \n",
              "2  0.99685  0.84671  0.19368  1.9264  \n",
              "3  0.99022  0.83328  0.19211  1.7006  \n",
              "4  0.99777  0.87867  0.20560  1.8397  \n",
              "\n",
              "[5 rows x 69 columns]"
            ],
            "text/html": [
              "\n",
              "  <div id=\"df-6b66e8bd-2db8-49b9-b296-45ca77d0cd94\">\n",
              "    <div class=\"colab-df-container\">\n",
              "      <div>\n",
              "<style scoped>\n",
              "    .dataframe tbody tr th:only-of-type {\n",
              "        vertical-align: middle;\n",
              "    }\n",
              "\n",
              "    .dataframe tbody tr th {\n",
              "        vertical-align: top;\n",
              "    }\n",
              "\n",
              "    .dataframe thead th {\n",
              "        text-align: right;\n",
              "    }\n",
              "</style>\n",
              "<table border=\"1\" class=\"dataframe\">\n",
              "  <thead>\n",
              "    <tr style=\"text-align: right;\">\n",
              "      <th></th>\n",
              "      <th>0</th>\n",
              "      <th>1</th>\n",
              "      <th>2</th>\n",
              "      <th>3</th>\n",
              "      <th>4</th>\n",
              "      <th>5</th>\n",
              "      <th>6</th>\n",
              "      <th>7</th>\n",
              "      <th>8</th>\n",
              "      <th>9</th>\n",
              "      <th>...</th>\n",
              "      <th>59</th>\n",
              "      <th>60</th>\n",
              "      <th>61</th>\n",
              "      <th>62</th>\n",
              "      <th>63</th>\n",
              "      <th>64</th>\n",
              "      <th>65</th>\n",
              "      <th>66</th>\n",
              "      <th>67</th>\n",
              "      <th>68</th>\n",
              "    </tr>\n",
              "  </thead>\n",
              "  <tbody>\n",
              "    <tr>\n",
              "      <th>0</th>\n",
              "      <td>0.50364</td>\n",
              "      <td>0.74719</td>\n",
              "      <td>0.43018</td>\n",
              "      <td>2.8163</td>\n",
              "      <td>5.9902</td>\n",
              "      <td>0.21883</td>\n",
              "      <td>0.17757</td>\n",
              "      <td>2.3737</td>\n",
              "      <td>0.23222</td>\n",
              "      <td>1.7509</td>\n",
              "      <td>...</td>\n",
              "      <td>0.14276</td>\n",
              "      <td>0.43096</td>\n",
              "      <td>0.24754</td>\n",
              "      <td>1.6033</td>\n",
              "      <td>2.0149</td>\n",
              "      <td>0.10823</td>\n",
              "      <td>1.04500</td>\n",
              "      <td>0.83156</td>\n",
              "      <td>0.18885</td>\n",
              "      <td>1.6757</td>\n",
              "    </tr>\n",
              "    <tr>\n",
              "      <th>1</th>\n",
              "      <td>0.51462</td>\n",
              "      <td>0.68906</td>\n",
              "      <td>0.41177</td>\n",
              "      <td>2.7895</td>\n",
              "      <td>5.6850</td>\n",
              "      <td>0.21164</td>\n",
              "      <td>0.17282</td>\n",
              "      <td>2.2921</td>\n",
              "      <td>0.22697</td>\n",
              "      <td>1.5964</td>\n",
              "      <td>...</td>\n",
              "      <td>0.14204</td>\n",
              "      <td>0.45716</td>\n",
              "      <td>0.25763</td>\n",
              "      <td>1.6717</td>\n",
              "      <td>2.0046</td>\n",
              "      <td>0.10975</td>\n",
              "      <td>1.00990</td>\n",
              "      <td>0.84927</td>\n",
              "      <td>0.20040</td>\n",
              "      <td>1.7436</td>\n",
              "    </tr>\n",
              "    <tr>\n",
              "      <th>2</th>\n",
              "      <td>0.50918</td>\n",
              "      <td>0.73025</td>\n",
              "      <td>0.41831</td>\n",
              "      <td>2.6872</td>\n",
              "      <td>5.6221</td>\n",
              "      <td>0.20901</td>\n",
              "      <td>0.17572</td>\n",
              "      <td>2.2833</td>\n",
              "      <td>0.23025</td>\n",
              "      <td>1.5613</td>\n",
              "      <td>...</td>\n",
              "      <td>0.14244</td>\n",
              "      <td>0.51047</td>\n",
              "      <td>0.25534</td>\n",
              "      <td>1.6635</td>\n",
              "      <td>2.0168</td>\n",
              "      <td>0.10820</td>\n",
              "      <td>0.99685</td>\n",
              "      <td>0.84671</td>\n",
              "      <td>0.19368</td>\n",
              "      <td>1.9264</td>\n",
              "    </tr>\n",
              "    <tr>\n",
              "      <th>3</th>\n",
              "      <td>0.44211</td>\n",
              "      <td>0.61708</td>\n",
              "      <td>0.35863</td>\n",
              "      <td>2.4669</td>\n",
              "      <td>4.9795</td>\n",
              "      <td>0.22289</td>\n",
              "      <td>0.17646</td>\n",
              "      <td>2.1523</td>\n",
              "      <td>0.20700</td>\n",
              "      <td>1.5951</td>\n",
              "      <td>...</td>\n",
              "      <td>0.14507</td>\n",
              "      <td>0.43100</td>\n",
              "      <td>0.25110</td>\n",
              "      <td>1.4846</td>\n",
              "      <td>1.9572</td>\n",
              "      <td>0.11988</td>\n",
              "      <td>0.99022</td>\n",
              "      <td>0.83328</td>\n",
              "      <td>0.19211</td>\n",
              "      <td>1.7006</td>\n",
              "    </tr>\n",
              "    <tr>\n",
              "      <th>4</th>\n",
              "      <td>0.43494</td>\n",
              "      <td>0.61743</td>\n",
              "      <td>0.35880</td>\n",
              "      <td>2.3658</td>\n",
              "      <td>4.7187</td>\n",
              "      <td>0.21311</td>\n",
              "      <td>0.17363</td>\n",
              "      <td>2.1340</td>\n",
              "      <td>0.19216</td>\n",
              "      <td>1.5042</td>\n",
              "      <td>...</td>\n",
              "      <td>0.14087</td>\n",
              "      <td>0.48123</td>\n",
              "      <td>0.25177</td>\n",
              "      <td>1.5348</td>\n",
              "      <td>2.0091</td>\n",
              "      <td>0.11952</td>\n",
              "      <td>0.99777</td>\n",
              "      <td>0.87867</td>\n",
              "      <td>0.20560</td>\n",
              "      <td>1.8397</td>\n",
              "    </tr>\n",
              "  </tbody>\n",
              "</table>\n",
              "<p>5 rows × 69 columns</p>\n",
              "</div>\n",
              "      <button class=\"colab-df-convert\" onclick=\"convertToInteractive('df-6b66e8bd-2db8-49b9-b296-45ca77d0cd94')\"\n",
              "              title=\"Convert this dataframe to an interactive table.\"\n",
              "              style=\"display:none;\">\n",
              "        \n",
              "  <svg xmlns=\"http://www.w3.org/2000/svg\" height=\"24px\"viewBox=\"0 0 24 24\"\n",
              "       width=\"24px\">\n",
              "    <path d=\"M0 0h24v24H0V0z\" fill=\"none\"/>\n",
              "    <path d=\"M18.56 5.44l.94 2.06.94-2.06 2.06-.94-2.06-.94-.94-2.06-.94 2.06-2.06.94zm-11 1L8.5 8.5l.94-2.06 2.06-.94-2.06-.94L8.5 2.5l-.94 2.06-2.06.94zm10 10l.94 2.06.94-2.06 2.06-.94-2.06-.94-.94-2.06-.94 2.06-2.06.94z\"/><path d=\"M17.41 7.96l-1.37-1.37c-.4-.4-.92-.59-1.43-.59-.52 0-1.04.2-1.43.59L10.3 9.45l-7.72 7.72c-.78.78-.78 2.05 0 2.83L4 21.41c.39.39.9.59 1.41.59.51 0 1.02-.2 1.41-.59l7.78-7.78 2.81-2.81c.8-.78.8-2.07 0-2.86zM5.41 20L4 18.59l7.72-7.72 1.47 1.35L5.41 20z\"/>\n",
              "  </svg>\n",
              "      </button>\n",
              "      \n",
              "  <style>\n",
              "    .colab-df-container {\n",
              "      display:flex;\n",
              "      flex-wrap:wrap;\n",
              "      gap: 12px;\n",
              "    }\n",
              "\n",
              "    .colab-df-convert {\n",
              "      background-color: #E8F0FE;\n",
              "      border: none;\n",
              "      border-radius: 50%;\n",
              "      cursor: pointer;\n",
              "      display: none;\n",
              "      fill: #1967D2;\n",
              "      height: 32px;\n",
              "      padding: 0 0 0 0;\n",
              "      width: 32px;\n",
              "    }\n",
              "\n",
              "    .colab-df-convert:hover {\n",
              "      background-color: #E2EBFA;\n",
              "      box-shadow: 0px 1px 2px rgba(60, 64, 67, 0.3), 0px 1px 3px 1px rgba(60, 64, 67, 0.15);\n",
              "      fill: #174EA6;\n",
              "    }\n",
              "\n",
              "    [theme=dark] .colab-df-convert {\n",
              "      background-color: #3B4455;\n",
              "      fill: #D2E3FC;\n",
              "    }\n",
              "\n",
              "    [theme=dark] .colab-df-convert:hover {\n",
              "      background-color: #434B5C;\n",
              "      box-shadow: 0px 1px 3px 1px rgba(0, 0, 0, 0.15);\n",
              "      filter: drop-shadow(0px 1px 2px rgba(0, 0, 0, 0.3));\n",
              "      fill: #FFFFFF;\n",
              "    }\n",
              "  </style>\n",
              "\n",
              "      <script>\n",
              "        const buttonEl =\n",
              "          document.querySelector('#df-6b66e8bd-2db8-49b9-b296-45ca77d0cd94 button.colab-df-convert');\n",
              "        buttonEl.style.display =\n",
              "          google.colab.kernel.accessAllowed ? 'block' : 'none';\n",
              "\n",
              "        async function convertToInteractive(key) {\n",
              "          const element = document.querySelector('#df-6b66e8bd-2db8-49b9-b296-45ca77d0cd94');\n",
              "          const dataTable =\n",
              "            await google.colab.kernel.invokeFunction('convertToInteractive',\n",
              "                                                     [key], {});\n",
              "          if (!dataTable) return;\n",
              "\n",
              "          const docLinkHtml = 'Like what you see? Visit the ' +\n",
              "            '<a target=\"_blank\" href=https://colab.research.google.com/notebooks/data_table.ipynb>data table notebook</a>'\n",
              "            + ' to learn more about interactive tables.';\n",
              "          element.innerHTML = '';\n",
              "          dataTable['output_type'] = 'display_data';\n",
              "          await google.colab.output.renderOutput(dataTable, element);\n",
              "          const docLink = document.createElement('div');\n",
              "          docLink.innerHTML = docLinkHtml;\n",
              "          element.appendChild(docLink);\n",
              "        }\n",
              "      </script>\n",
              "    </div>\n",
              "  </div>\n",
              "  "
            ]
          },
          "metadata": {},
          "execution_count": 7
        }
      ],
      "source": [
        "# 샘플당 100개의 특성(feature)을 가진 데이터\n",
        "df.head()"
      ]
    },
    {
      "cell_type": "code",
      "execution_count": 8,
      "metadata": {
        "colab": {
          "base_uri": "https://localhost:8080/"
        },
        "id": "zrIvw52rPdx4",
        "outputId": "af680fc5-1c79-4782-d802-69b4c2ebc4fe"
      },
      "outputs": [
        {
          "output_type": "stream",
          "name": "stdout",
          "text": [
            "   0\n",
            "0  1\n",
            "1  1\n",
            "2  1\n",
            "3  1\n",
            "4  1\n",
            "      0\n",
            "1072  2\n",
            "1073  2\n",
            "1074  2\n",
            "1075  2\n",
            "1076  2\n"
          ]
        }
      ],
      "source": [
        "print(df_label.head())\n",
        "print(df_label.tail())"
      ]
    },
    {
      "cell_type": "code",
      "source": [
        "from sklearn.model_selection import train_test_split"
      ],
      "metadata": {
        "id": "GvHlEdyKIxdZ"
      },
      "execution_count": 9,
      "outputs": []
    },
    {
      "cell_type": "code",
      "source": [
        "label = df_label\n",
        "features = df"
      ],
      "metadata": {
        "id": "qa-scLG7JC3E"
      },
      "execution_count": 10,
      "outputs": []
    },
    {
      "cell_type": "code",
      "source": [
        "X_train, X_test, y_train, y_test = train_test_split(features, label, test_size=0.2, random_state=42)"
      ],
      "metadata": {
        "id": "sCdaIFA0I1h_"
      },
      "execution_count": 11,
      "outputs": []
    },
    {
      "cell_type": "code",
      "source": [
        "import tensorflow as tf"
      ],
      "metadata": {
        "id": "KHrj72FRJORm"
      },
      "execution_count": 14,
      "outputs": []
    },
    {
      "cell_type": "code",
      "source": [
        "# 이진 분류 시그모이드 사용\n",
        "model = tf.keras.models.Sequential([\n",
        "    tf.keras.layers.Dense(1, activation='sigmoid')\n",
        "])\n",
        "# model = tf.keras.models.Sequential()\n",
        "# model.add(tf.keras.layers.Dense(1, activation='sigmoid'))\n",
        "\n",
        "# 둘다 같은 방법이니 편한거 사용하자\n",
        "\n",
        "model.compile(optimizer='sgd',\n",
        "              loss='binary_crossentropy',\n",
        "              metrics=['accuracy'])\n",
        "model.fit(X_train, y_train, epochs=30)"
      ],
      "metadata": {
        "colab": {
          "base_uri": "https://localhost:8080/"
        },
        "id": "lopJ8TQUKDIE",
        "outputId": "87a84c44-9afa-4459-b65c-c1463c2fd15c"
      },
      "execution_count": 43,
      "outputs": [
        {
          "output_type": "stream",
          "name": "stdout",
          "text": [
            "Epoch 1/30\n",
            "27/27 [==============================] - 0s 2ms/step - loss: -2.9533 - accuracy: 0.5238\n",
            "Epoch 2/30\n",
            "27/27 [==============================] - 0s 2ms/step - loss: -7.7476 - accuracy: 0.5238\n",
            "Epoch 3/30\n",
            "27/27 [==============================] - 0s 2ms/step - loss: -12.4749 - accuracy: 0.5238\n",
            "Epoch 4/30\n",
            "27/27 [==============================] - 0s 2ms/step - loss: -17.2065 - accuracy: 0.5238\n",
            "Epoch 5/30\n",
            "27/27 [==============================] - 0s 2ms/step - loss: -21.9367 - accuracy: 0.5238\n",
            "Epoch 6/30\n",
            "27/27 [==============================] - 0s 2ms/step - loss: -26.6649 - accuracy: 0.5238\n",
            "Epoch 7/30\n",
            "27/27 [==============================] - 0s 2ms/step - loss: -31.4006 - accuracy: 0.5238\n",
            "Epoch 8/30\n",
            "27/27 [==============================] - 0s 2ms/step - loss: -36.1284 - accuracy: 0.5238\n",
            "Epoch 9/30\n",
            "27/27 [==============================] - 0s 2ms/step - loss: -40.8579 - accuracy: 0.5238\n",
            "Epoch 10/30\n",
            "27/27 [==============================] - 0s 2ms/step - loss: -45.5882 - accuracy: 0.5238\n",
            "Epoch 11/30\n",
            "27/27 [==============================] - 0s 2ms/step - loss: -50.3185 - accuracy: 0.5238\n",
            "Epoch 12/30\n",
            "27/27 [==============================] - 0s 2ms/step - loss: -55.0518 - accuracy: 0.5238\n",
            "Epoch 13/30\n",
            "27/27 [==============================] - 0s 2ms/step - loss: -59.7806 - accuracy: 0.5238\n",
            "Epoch 14/30\n",
            "27/27 [==============================] - 0s 2ms/step - loss: -64.5094 - accuracy: 0.5238\n",
            "Epoch 15/30\n",
            "27/27 [==============================] - 0s 2ms/step - loss: -69.2416 - accuracy: 0.5238\n",
            "Epoch 16/30\n",
            "27/27 [==============================] - 0s 2ms/step - loss: -73.9787 - accuracy: 0.5238\n",
            "Epoch 17/30\n",
            "27/27 [==============================] - 0s 2ms/step - loss: -78.7095 - accuracy: 0.5238\n",
            "Epoch 18/30\n",
            "27/27 [==============================] - 0s 2ms/step - loss: -83.4406 - accuracy: 0.5238\n",
            "Epoch 19/30\n",
            "27/27 [==============================] - 0s 2ms/step - loss: -88.1708 - accuracy: 0.5238\n",
            "Epoch 20/30\n",
            "27/27 [==============================] - 0s 2ms/step - loss: -92.8993 - accuracy: 0.5238\n",
            "Epoch 21/30\n",
            "27/27 [==============================] - 0s 2ms/step - loss: -97.6317 - accuracy: 0.5238\n",
            "Epoch 22/30\n",
            "27/27 [==============================] - 0s 2ms/step - loss: -102.3615 - accuracy: 0.5238\n",
            "Epoch 23/30\n",
            "27/27 [==============================] - 0s 2ms/step - loss: -107.0917 - accuracy: 0.5238\n",
            "Epoch 24/30\n",
            "27/27 [==============================] - 0s 2ms/step - loss: -111.8209 - accuracy: 0.5238\n",
            "Epoch 25/30\n",
            "27/27 [==============================] - 0s 2ms/step - loss: -116.5459 - accuracy: 0.5238\n",
            "Epoch 26/30\n",
            "27/27 [==============================] - 0s 2ms/step - loss: -121.2801 - accuracy: 0.5238\n",
            "Epoch 27/30\n",
            "27/27 [==============================] - 0s 2ms/step - loss: -126.0102 - accuracy: 0.5238\n",
            "Epoch 28/30\n",
            "27/27 [==============================] - 0s 2ms/step - loss: -130.7341 - accuracy: 0.5238\n",
            "Epoch 29/30\n",
            "27/27 [==============================] - 0s 2ms/step - loss: -135.4660 - accuracy: 0.5238\n",
            "Epoch 30/30\n",
            "27/27 [==============================] - 0s 2ms/step - loss: -140.1984 - accuracy: 0.5238\n"
          ]
        },
        {
          "output_type": "execute_result",
          "data": {
            "text/plain": [
              "<keras.callbacks.History at 0x7f8ab03cb690>"
            ]
          },
          "metadata": {},
          "execution_count": 43
        }
      ]
    },
    {
      "cell_type": "code",
      "source": [
        "model.evaluate(X_test, y_test, verbose=2)\n",
        "# verbose 0 = 무음, 1 = 진행률 표시줄, 2 = 한 줄. \"auto\"대부분의 경우 기본값은 1이고 와 함께 사용할 경우 기본값은 2"
      ],
      "metadata": {
        "colab": {
          "base_uri": "https://localhost:8080/"
        },
        "id": "UWrkQb4nLOFf",
        "outputId": "9748359c-23a8-4543-e1f1-d6010988cdf5"
      },
      "execution_count": 44,
      "outputs": [
        {
          "output_type": "stream",
          "name": "stdout",
          "text": [
            "7/7 - 0s - loss: -1.3624e+02 - accuracy: 0.5509 - 113ms/epoch - 16ms/step\n"
          ]
        },
        {
          "output_type": "execute_result",
          "data": {
            "text/plain": [
              "[-136.2391815185547, 0.5509259104728699]"
            ]
          },
          "metadata": {},
          "execution_count": 44
        }
      ]
    },
    {
      "cell_type": "code",
      "source": [
        "from sklearn.metrics import classification_report\n"
      ],
      "metadata": {
        "id": "VQts27P2QNmu"
      },
      "execution_count": 40,
      "outputs": []
    },
    {
      "cell_type": "code",
      "source": [
        "pred = model.predict(X_test)"
      ],
      "metadata": {
        "id": "kmF-FGOlP6-N"
      },
      "execution_count": 45,
      "outputs": []
    },
    {
      "cell_type": "code",
      "source": [
        "class_report = classification_report(y_test, pred, zero_division=1)\n",
        "print(class_report)"
      ],
      "metadata": {
        "colab": {
          "base_uri": "https://localhost:8080/"
        },
        "id": "pJrBn7CAPbHR",
        "outputId": "0ccdd3ad-1e15-467c-95eb-7627c575411b"
      },
      "execution_count": 48,
      "outputs": [
        {
          "output_type": "stream",
          "name": "stdout",
          "text": [
            "              precision    recall  f1-score   support\n",
            "\n",
            "           1       0.55      1.00      0.71       119\n",
            "           2       1.00      0.00      0.00        97\n",
            "\n",
            "    accuracy                           0.55       216\n",
            "   macro avg       0.78      0.50      0.36       216\n",
            "weighted avg       0.75      0.55      0.39       216\n",
            "\n"
          ]
        }
      ]
    },
    {
      "cell_type": "markdown",
      "metadata": {
        "id": "Yilj1IY3M4Zr"
      },
      "source": [
        "---\n",
        "\n",
        "4-1. 사용한 모델을 입력합니다. \n",
        "\n",
        "4-2. Accuracy를 입력합니다. \n",
        "\n",
        "4-3. Precision 을 입력합니다. \n",
        "\n",
        "4-4. Recall 을 입력합니다. \n",
        "\n",
        "4-5. F1 score 를 입력합니다."
      ]
    },
    {
      "cell_type": "code",
      "source": [
        "from sklearn.linear_model import LogisticRegression"
      ],
      "metadata": {
        "id": "K2qwTAphntdL"
      },
      "execution_count": 25,
      "outputs": []
    },
    {
      "cell_type": "code",
      "source": [
        "model2=LogisticRegression()\n",
        "model2.fit(X_train, y_train)"
      ],
      "metadata": {
        "colab": {
          "base_uri": "https://localhost:8080/"
        },
        "id": "Fqh3wf02nuIr",
        "outputId": "d69a418c-3f63-4ffe-84db-bed74d2b839f"
      },
      "execution_count": 27,
      "outputs": [
        {
          "output_type": "stream",
          "name": "stderr",
          "text": [
            "/usr/local/lib/python3.7/dist-packages/sklearn/utils/validation.py:993: DataConversionWarning: A column-vector y was passed when a 1d array was expected. Please change the shape of y to (n_samples, ), for example using ravel().\n",
            "  y = column_or_1d(y, warn=True)\n",
            "/usr/local/lib/python3.7/dist-packages/sklearn/linear_model/_logistic.py:818: ConvergenceWarning: lbfgs failed to converge (status=1):\n",
            "STOP: TOTAL NO. of ITERATIONS REACHED LIMIT.\n",
            "\n",
            "Increase the number of iterations (max_iter) or scale the data as shown in:\n",
            "    https://scikit-learn.org/stable/modules/preprocessing.html\n",
            "Please also refer to the documentation for alternative solver options:\n",
            "    https://scikit-learn.org/stable/modules/linear_model.html#logistic-regression\n",
            "  extra_warning_msg=_LOGISTIC_SOLVER_CONVERGENCE_MSG,\n"
          ]
        },
        {
          "output_type": "execute_result",
          "data": {
            "text/plain": [
              "LogisticRegression()"
            ]
          },
          "metadata": {},
          "execution_count": 27
        }
      ]
    },
    {
      "cell_type": "code",
      "source": [
        "pred2 = model2.predict(X_test)"
      ],
      "metadata": {
        "id": "ZlsB5Lynonhj"
      },
      "execution_count": 33,
      "outputs": []
    },
    {
      "cell_type": "code",
      "source": [
        "class_report = classification_report(y_test, pred2, zero_division=1)\n",
        "print(class_report)"
      ],
      "metadata": {
        "colab": {
          "base_uri": "https://localhost:8080/"
        },
        "id": "a7Kx3Ei6osr5",
        "outputId": "e76ae12a-03ce-4fde-c397-746084dd751c"
      },
      "execution_count": 34,
      "outputs": [
        {
          "output_type": "stream",
          "name": "stdout",
          "text": [
            "              precision    recall  f1-score   support\n",
            "\n",
            "           1       0.88      0.98      0.93       119\n",
            "           2       0.98      0.84      0.90        97\n",
            "\n",
            "    accuracy                           0.92       216\n",
            "   macro avg       0.93      0.91      0.91       216\n",
            "weighted avg       0.92      0.92      0.92       216\n",
            "\n"
          ]
        }
      ]
    }
  ],
  "metadata": {
    "colab": {
      "name": "ds_cs_N421a.ipynb",
      "provenance": [],
      "collapsed_sections": [],
      "include_colab_link": true
    },
    "kernelspec": {
      "display_name": "Python 3 (ipykernel)",
      "language": "python",
      "name": "python3"
    },
    "language_info": {
      "codemirror_mode": {
        "name": "ipython",
        "version": 3
      },
      "file_extension": ".py",
      "mimetype": "text/x-python",
      "name": "python",
      "nbconvert_exporter": "python",
      "pygments_lexer": "ipython3",
      "version": "3.8.12"
    }
  },
  "nbformat": 4,
  "nbformat_minor": 0
}